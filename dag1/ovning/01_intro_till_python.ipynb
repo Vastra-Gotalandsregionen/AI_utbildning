{
  "cells": [
    {
      "cell_type": "markdown",
      "metadata": {
        "colab_type": "text",
        "id": "view-in-github"
      },
      "source": [
        "<a href=\"https://colab.research.google.com/github/Vastra-Gotalandsregionen/AI_utbildning/blob/main/dag1/01_intro_till_python.ipynb\" target=\"_parent\"><img src=\"https://colab.research.google.com/assets/colab-badge.svg\" alt=\"Open In Colab\"/></a>"
      ]
    },
    {
      "cell_type": "markdown",
      "metadata": {
        "id": "Ajnj8IZQVE8H"
      },
      "source": [
        "# En introduktion till Python-programmering\n",
        "Den här miljön kallas för Jupyter och är ett enkelt sätt att stegvis bygga upp något. Jupyter och programmeringsspråket Python är mycket populärt inom yrkeskåren kallad *data science*, det vill säga de som jobbar i gränslandet mellan statistik och systemutveckling. De som utvecklar AI-tekniker brukar ofta vara just data scientists."
      ]
    },
    {
      "cell_type": "markdown",
      "metadata": {
        "id": "aiZDwA4dVE8M"
      },
      "source": [
        "###### 0. Intro till Jupyter\n",
        "De här olika rutorna kallas för celler. De som har vit bakgrund är vanlig text och fungerar som dokumentation. Kod skriver du in i rutor med grå bakgrundsfärg. Detta kan man råka fumla till, så då markerar man en cell och väljer antingen **Markdown** eller **Code** i rullistan ovan.\n",
        "\n",
        "I verktygsfältet ovan finns några fler saker du behöver känna till. Knappen **Run** är den som kör en cell där du skrivit in kod, den gör också att du hoppar ur celler med dokumentation.\n",
        "Du kan skapa nya celler under **Insert**. Vill du ta bort en cell markerar du den och går in i **Edit**-menyn."
      ]
    },
    {
      "cell_type": "markdown",
      "metadata": {
        "id": "VUtv8pH1VE8N"
      },
      "source": [
        "## 1. Skriv ut något på skärmen\n",
        "En klassiker är att skriva ut texten \"Hello world!\". Det gör vi med kommandot print()"
      ]
    },
    {
      "cell_type": "code",
      "execution_count": 9,
      "metadata": {
        "colab": {
          "base_uri": "https://localhost:8080/"
        },
        "id": "L1whMFwFVE8O",
        "outputId": "36c6b413-d288-46bf-c649-87a0002be12b"
      },
      "outputs": [],
      "source": [
        "# skriva text\n",
        "\n",
        "# skriva siffror\n"
      ]
    },
    {
      "cell_type": "markdown",
      "metadata": {
        "id": "vCazm03mVE8P"
      },
      "source": [
        "## 2. Operatorer\n",
        "Ett fint ord för de olika räknesätten (och lite annat)."
      ]
    },
    {
      "cell_type": "code",
      "execution_count": 10,
      "metadata": {
        "colab": {
          "base_uri": "https://localhost:8080/"
        },
        "id": "Wx_nryOiVE8P",
        "outputId": "2d9b473a-0d8d-411c-ab4b-c8dda8678af0"
      },
      "outputs": [],
      "source": [
        "# kommentar kan skrivas med en '#' innan påbörjad kommentar\n",
        "\n",
        "# addition\n",
        "\n",
        "# konkatenering där man kan skriva en mening och lägga till siffror genom att göra om dessa till strängar (str)\n"
      ]
    },
    {
      "cell_type": "markdown",
      "metadata": {
        "id": "ak7dySYhVE8Q"
      },
      "source": [
        "## 3. Variabler\n",
        "För att mellanlagra information kan man använda variabler. Det är som namngivna behållare du kan stoppa ner lite allt möjligt. En poäng med variabler är att din kod blir lättare att läsa."
      ]
    },
    {
      "cell_type": "code",
      "execution_count": 11,
      "metadata": {
        "colab": {
          "base_uri": "https://localhost:8080/"
        },
        "id": "qXK-1wGaVE8Q",
        "outputId": "b75f3864-f6bc-413e-a43d-a645a764768c"
      },
      "outputs": [],
      "source": [
        "#variabler\n",
        "\n",
        "# genom att använda variabler kan vi byta värde på dom utan att behöva justera på alla ställen där variabeln används\n"
      ]
    },
    {
      "cell_type": "markdown",
      "metadata": {
        "id": "bUqwqpA4VE8Q"
      },
      "source": [
        "## 4. Lista saker\n",
        "Det finns flera olika sorters listor inom programmering. De är specialiserade för olika användningsområden, som att alltid vara sorterade eller kunna innehålla olika komplexa saker."
      ]
    },
    {
      "cell_type": "code",
      "execution_count": 12,
      "metadata": {
        "colab": {
          "base_uri": "https://localhost:8080/"
        },
        "id": "wQw4FlKUVE8R",
        "outputId": "6f8190bc-8c34-4b81-fb82-13f0982f3f07"
      },
      "outputs": [],
      "source": [
        "# skapa lista\n",
        "\n",
        "# lägga till i lista\n"
      ]
    },
    {
      "cell_type": "markdown",
      "metadata": {
        "id": "LxSzbdeAVE8R"
      },
      "source": [
        "## 5. Importera funktioner och moduler\n",
        "Programmeringsspråk har en massa funktioner man kan lära känna och ha nytta av. Exempelvis kan man be om hjälp med saker som värdet Pi istället för att skriva in decimalerna för hand. Värdet av Pi finns i en modul som heter 'math', det är inte konstigare än att vi importerar 'math'"
      ]
    },
    {
      "cell_type": "code",
      "execution_count": 13,
      "metadata": {
        "colab": {
          "base_uri": "https://localhost:8080/"
        },
        "id": "UIdnm0A3VE8S",
        "outputId": "79e2f57d-6804-4007-a005-75266f83cd1a"
      },
      "outputs": [],
      "source": [
        "# importera modul\n",
        "\n",
        "# använd modul\n"
      ]
    },
    {
      "cell_type": "markdown",
      "metadata": {
        "id": "wvwPCsf6VE8S"
      },
      "source": [
        "## 6. If-satser\n",
        "AI beskylls ibland för att enbart bestå av en massa villkor, if-satser alltså. Här ska vi sätta upp villkor. Skulle du kunna avslöja en \"AI\" som har en miljon färdiga svar på frågor?"
      ]
    },
    {
      "cell_type": "code",
      "execution_count": 14,
      "metadata": {
        "colab": {
          "base_uri": "https://localhost:8080/"
        },
        "id": "16q6ZPEHVE8S",
        "outputId": "c6e8a598-f41b-42be-8c70-39478b06de85"
      },
      "outputs": [],
      "source": [
        "# villkor\n",
        "\n"
      ]
    },
    {
      "cell_type": "markdown",
      "metadata": {},
      "source": [
        "Kan du skapa en if sats som kan bedömma om det är helg idag?"
      ]
    },
    {
      "cell_type": "code",
      "execution_count": 15,
      "metadata": {
        "colab": {
          "base_uri": "https://localhost:8080/"
        },
        "id": "87rcR2K7kne-",
        "outputId": "04aa2d80-d774-408c-b750-0b8edf72ee59"
      },
      "outputs": [],
      "source": [
        "# importera modul\n",
        "\n",
        "# hämta veckodagen\n",
        "\n",
        "# är det helg idag check genom villkors-satser\n",
        "\n"
      ]
    },
    {
      "cell_type": "markdown",
      "metadata": {
        "id": "2HeJRXXbVE8S"
      },
      "source": [
        "## 7. Slutligen, slingor, loopar, iteratorer, kärt barn\n",
        "För att sysselsätta en maskin med lite mer jobb kan man instruera den att göra något tills den är färdig. Här följer några exempel på det. Vem blir första att skriva en evighetsloop? :)"
      ]
    },
    {
      "cell_type": "code",
      "execution_count": 16,
      "metadata": {
        "colab": {
          "base_uri": "https://localhost:8080/"
        },
        "id": "waiFz24dVE8V",
        "outputId": "1cccc3e8-c719-4ce1-aab6-da71f261b38d"
      },
      "outputs": [],
      "source": [
        "# definiera lista\n",
        "\n",
        "# loopa igenom lista\n",
        "\n",
        "# skriv namnen i listan ett i taget\n"
      ]
    }
  ],
  "metadata": {
    "colab": {
      "include_colab_link": true,
      "provenance": []
    },
    "kernelspec": {
      "display_name": "Python 3 (ipykernel)",
      "language": "python",
      "name": "python3"
    },
    "language_info": {
      "codemirror_mode": {
        "name": "ipython",
        "version": 3
      },
      "file_extension": ".py",
      "mimetype": "text/x-python",
      "name": "python",
      "nbconvert_exporter": "python",
      "pygments_lexer": "ipython3",
      "version": "3.8.10"
    }
  },
  "nbformat": 4,
  "nbformat_minor": 0
}
