{
  "cells": [
    {
      "cell_type": "markdown",
      "metadata": {
        "colab_type": "text",
        "id": "view-in-github"
      },
      "source": [
        "<a href=\"https://colab.research.google.com/github/Vastra-Gotalandsregionen/AI_utbildning/blob/main/dag1/02_supervised_machine_learning.ipynb\" target=\"_parent\"><img src=\"https://colab.research.google.com/assets/colab-badge.svg\" alt=\"Open In Colab\"/></a>"
      ]
    },
    {
      "cell_type": "markdown",
      "metadata": {
        "id": "lVehAzGR5aJi"
      },
      "source": [
        "# Machine learning med tio rader kod\n",
        "Att lära en maskin genom exempel och erfarenheter, istället för att manuellt mata in regler. Detta genom supervised machine learning.\n",
        "Maskinen ska förutspå om en ny frukt är en apelsin eller äpple baserat på tidigare erfarenheter."
      ]
    },
    {
      "cell_type": "markdown",
      "metadata": {
        "id": "1QIGuvqG5aJm"
      },
      "source": [
        "## 1. Samla in träningsdata\n",
        "Det som avslöjar denna machine learning som just en *supervised* machine learning är för att vi har labels. Labels är de etiketter med beskrivande svar vi matar maskinen med.\n",
        "\n",
        "*Obs! De kantiga parenteserna får du till genom knappen Alt Gr och siffrorna 8 eller 9 på Windows. På Mac heter Alt Gr istället Option.*"
      ]
    },
    {
      "cell_type": "code",
      "execution_count": null,
      "metadata": {
        "id": "DIbTm5rP5aJm"
      },
      "outputs": [],
      "source": [
        "from sklearn import tree\n",
        "# traningsdata: vikt i gram, ytans beskaffenhet (0 för len, 1 för gropig)\n",
        "\n",
        "# etiketter = 0 för äpple, 1 för apelsin\n"
      ]
    },
    {
      "cell_type": "markdown",
      "metadata": {
        "id": "UcxL8bnN5aJn"
      },
      "source": [
        "## 2. Träna upp klassificeraren och leta mönster i data\n",
        "Vi kör med ett beslutsträd (decision tree)"
      ]
    },
    {
      "cell_type": "code",
      "execution_count": 6,
      "metadata": {
        "id": "qZr7m0fZ5aJo"
      },
      "outputs": [],
      "source": [
        "# definiera modell\n",
        "\n",
        "# träna modell"
      ]
    },
    {
      "cell_type": "markdown",
      "metadata": {
        "id": "fUUFa8PA5aJo"
      },
      "source": [
        "## 3. Predicera\n",
        "Förutsäg vilken sorts frukt något är baserat på dess egenskaper"
      ]
    },
    {
      "cell_type": "code",
      "execution_count": 2,
      "metadata": {
        "colab": {
          "base_uri": "https://localhost:8080/"
        },
        "id": "wgjTUcg_5aJp",
        "outputId": "38ec681b-ff68-44e6-e074-b4245026e6b6"
      },
      "outputs": [],
      "source": [
        "# ny frukt, 180 gram och gropig yta\n",
        "\n",
        "# skapa en if-sats som printar den predicerade frukten"
      ]
    },
    {
      "cell_type": "markdown",
      "metadata": {
        "id": "UgVeM5Yd5aJp"
      },
      "source": [
        "## 4. Förklarbarhet: Hur ser beslutsträdet ut?\n",
        "Med nedan kod kan man få information om beslutsträdets struktur. Alltså se vilka värden som sorteras till respektive prediktion."
      ]
    },
    {
      "cell_type": "code",
      "execution_count": 3,
      "metadata": {
        "colab": {
          "base_uri": "https://localhost:8080/",
          "height": 461
        },
        "id": "GzqRQqdy5aJq",
        "outputId": "64c1f095-98a1-426a-a39a-336549eec9bf"
      },
      "outputs": [],
      "source": [
        "# plotta modellens struktur\n"
      ]
    },
    {
      "cell_type": "markdown",
      "metadata": {
        "id": "F8QRoAbyawiS"
      },
      "source": [
        "### Illustration Iris\n",
        "\n",
        "Importera datasetet IRIS, ett dataset med blommor och träna en trädmodell för att sedan visualisera."
      ]
    },
    {
      "cell_type": "code",
      "execution_count": null,
      "metadata": {
        "colab": {
          "base_uri": "https://localhost:8080/",
          "height": 423
        },
        "id": "5YqMT4ymbrL9",
        "outputId": "e62aa211-f356-474d-f8c7-2fbd2dec1ea0"
      },
      "outputs": [],
      "source": [
        "# Importera paket och dataset\n",
        "from sklearn.datasets import load_iris\n",
        "from sklearn import tree\n",
        "import pandas as pd \n",
        "import numpy as np\n",
        "\n",
        "# Ladda datset i från paketet\n",
        "iris = load_iris()\n",
        "iris_df = pd.DataFrame(data= np.c_[iris['data'], iris['target']], columns= iris['feature_names'] + ['target'])\n",
        "iris_df"
      ]
    },
    {
      "cell_type": "code",
      "execution_count": 10,
      "metadata": {
        "id": "b9Fwq85bcGAd"
      },
      "outputs": [],
      "source": [
        "# Dela upp datasetet träningsdata och etiketter\n"
      ]
    },
    {
      "cell_type": "code",
      "execution_count": null,
      "metadata": {
        "colab": {
          "base_uri": "https://localhost:8080/",
          "height": 499
        },
        "id": "mCBAMn2_auM8",
        "outputId": "f89ba4cb-9ce3-4c84-aa19-67c0961832fb"
      },
      "outputs": [],
      "source": [
        "import matplotlib.pyplot as plt\n",
        "# visualisera modellstruktur\n",
        "plt.figure(figsize = (12, 6)) \n",
        "\n",
        "tree.plot_tree(model, filled = True, feature_names = iris_df.columns[:-1]);"
      ]
    }
  ],
  "metadata": {
    "colab": {
      "include_colab_link": true,
      "provenance": []
    },
    "kernelspec": {
      "display_name": "Python 3 (ipykernel)",
      "language": "python",
      "name": "python3"
    },
    "language_info": {
      "codemirror_mode": {
        "name": "ipython",
        "version": 3
      },
      "file_extension": ".py",
      "mimetype": "text/x-python",
      "name": "python",
      "nbconvert_exporter": "python",
      "pygments_lexer": "ipython3",
      "version": "3.8.10"
    }
  },
  "nbformat": 4,
  "nbformat_minor": 0
}
